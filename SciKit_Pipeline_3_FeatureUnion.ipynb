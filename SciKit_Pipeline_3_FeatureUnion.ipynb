{
 "cells": [
  {
   "cell_type": "code",
   "execution_count": 3,
   "metadata": {},
   "outputs": [],
   "source": [
    "#importing dataset\n",
    "from sklearn.datasets import fetch_california_housing\n",
    "\n",
    "#obtaining dataset\n",
    "data = fetch_california_housing()\n",
    "x = data['data']\n",
    "y = data['target']"
   ]
  },
  {
   "cell_type": "code",
   "execution_count": 12,
   "metadata": {},
   "outputs": [],
   "source": [
    "#Learning feature union where datasets i.e, features of any type(text,numerical) upon transformation  change into a \n",
    "#readable data for the scikit package. Transformers work parallely here\n",
    "\n",
    "from sklearn.feature_selection import f_regression, SelectKBest\n",
    "from sklearn.decomposition import PCA\n",
    "from sklearn.pipeline import FeatureUnion\n",
    "from sklearn.preprocessing import StandardScaler\n",
    "from sklearn.linear_model import LinearRegression\n",
    "from sklearn.pipeline import Pipeline\n"
   ]
  },
  {
   "cell_type": "code",
   "execution_count": 13,
   "metadata": {},
   "outputs": [
    {
     "data": {
      "text/plain": [
       "Pipeline(memory=None,\n",
       "         steps=[('union',\n",
       "                 FeatureUnion(n_jobs=None,\n",
       "                              transformer_list=[('pca_pipe',\n",
       "                                                 Pipeline(memory=None,\n",
       "                                                          steps=[('scaler',\n",
       "                                                                  StandardScaler(copy=True,\n",
       "                                                                                 with_mean=True,\n",
       "                                                                                 with_std=True)),\n",
       "                                                                 ('dim_red',\n",
       "                                                                  PCA(copy=True,\n",
       "                                                                      iterated_power='auto',\n",
       "                                                                      n_components=4,\n",
       "                                                                      random_state=None,\n",
       "                                                                      svd_solver='auto',\n",
       "                                                                      tol=0.0,\n",
       "                                                                      whiten=False))],\n",
       "                                                          verbose=False)),\n",
       "                                                ('selector',\n",
       "                                                 SelectKBest(k=2,\n",
       "                                                             score_func=<function f_regression at 0x00000243C87263A8>))],\n",
       "                              transformer_weights=None, verbose=False)),\n",
       "                ('regressor',\n",
       "                 LinearRegression(copy_X=True, fit_intercept=True, n_jobs=None,\n",
       "                                  normalize=False))],\n",
       "         verbose=False)"
      ]
     },
     "execution_count": 13,
     "metadata": {},
     "output_type": "execute_result"
    }
   ],
   "source": [
    "#implementing transformers\n",
    "\n",
    "scaler = StandardScaler()\n",
    "linReg = LinearRegression()\n",
    "pca = PCA(n_components=4)   #relates to the number of features obtained after dimensionality reduction\n",
    "selector = SelectKBest(f_regression, k=2)\n",
    "\n",
    "#constructing the PCA pipeline\n",
    "pca_pipe = Pipeline([('scaler', scaler), ('dim_red', pca)])\n",
    "\n",
    "#combining it with the selector using feature union\n",
    "union = FeatureUnion([('pca_pipe', pca_pipe), ('selector', selector)])\n",
    "\n",
    "#constructing the main pipe\n",
    "pipe = Pipeline([('union', union), ('regressor', linReg)])\n",
    "\n",
    "#pipe fit\n",
    "pipe.fit(x,y)"
   ]
  },
  {
   "cell_type": "code",
   "execution_count": 14,
   "metadata": {},
   "outputs": [
    {
     "name": "stdout",
     "output_type": "stream",
     "text": [
      "r^2: 0.5288130088767817\n"
     ]
    }
   ],
   "source": [
    "#results\n",
    "\n",
    "print(f'r^2: {pipe.score(x,y)}')"
   ]
  },
  {
   "cell_type": "code",
   "execution_count": null,
   "metadata": {},
   "outputs": [],
   "source": []
  }
 ],
 "metadata": {
  "kernelspec": {
   "display_name": "Python 3",
   "language": "python",
   "name": "python3"
  },
  "language_info": {
   "codemirror_mode": {
    "name": "ipython",
    "version": 3
   },
   "file_extension": ".py",
   "mimetype": "text/x-python",
   "name": "python",
   "nbconvert_exporter": "python",
   "pygments_lexer": "ipython3",
   "version": "3.7.4"
  }
 },
 "nbformat": 4,
 "nbformat_minor": 2
}
